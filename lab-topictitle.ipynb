{
 "cells": [
  {
   "cell_type": "markdown",
   "id": "a8e1dac2",
   "metadata": {},
   "source": [
    "# Template Lab Notebook\n",
    "\n",
    "Of course, this will be filled with lab stuff."
   ]
  },
  {
   "cell_type": "markdown",
   "id": "53110c45",
   "metadata": {},
   "source": []
  },
  {
   "cell_type": "code",
   "execution_count": null,
   "id": "9d52bed3",
   "metadata": {
    "vscode": {
     "languageId": "plaintext"
    }
   },
   "outputs": [],
   "source": []
  },
  {
   "cell_type": "markdown",
   "id": "ba384bb5",
   "metadata": {},
   "source": [
    "# Explore\n",
    "\n",
    "Test your understanding of this week's content with the following explorations.\n",
    "\n",
    "*Note: unless otherwise noted, **explorations are completely optional and will not be reviewed.***\n",
    "\n",
    "## Exploration 1\n",
    "\n",
    "..."
   ]
  },
  {
   "cell_type": "markdown",
   "id": "37a0be02",
   "metadata": {},
   "source": []
  }
 ],
 "metadata": {
  "language_info": {
   "name": "python"
  }
 },
 "nbformat": 4,
 "nbformat_minor": 5
}
