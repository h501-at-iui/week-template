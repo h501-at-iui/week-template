{
 "cells": [
  {
   "cell_type": "markdown",
   "id": "a8e1dac2",
   "metadata": {},
   "source": [
    "# Template Lab Notebook\n",
    "\n",
    "Of course, this will be filled with lab stuff."
   ]
  },
  {
   "cell_type": "markdown",
   "id": "53110c45",
   "metadata": {},
   "source": []
  }
 ],
 "metadata": {
  "language_info": {
   "name": "python"
  }
 },
 "nbformat": 4,
 "nbformat_minor": 5
}
